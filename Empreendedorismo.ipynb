{
  "nbformat": 4,
  "nbformat_minor": 0,
  "metadata": {
    "colab": {
      "name": "Empreendedorismo",
      "provenance": [],
      "collapsed_sections": []
    },
    "kernelspec": {
      "name": "python3",
      "display_name": "Python 3"
    },
    "language_info": {
      "name": "python"
    }
  },
  "cells": [
    {
      "cell_type": "code",
      "metadata": {
        "id": "hWgL-tT8UfWm"
      },
      "source": [
        "import random"
      ],
      "execution_count": null,
      "outputs": []
    },
    {
      "cell_type": "code",
      "metadata": {
        "id": "0aa5VNn9UnUq"
      },
      "source": [
        "def Regras():\n",
        "    print('Regras iniciais: A cada turno um evento aleatório acontece. Os jogadores devem fazer escolhas unânimes, a escolha é feita a partir de um debate, no qual cada jogador deve defender seu ponto de vista. O tempo é ilimitado.')\n",
        "    print('Função: Os jogadores recebem aleatoriamente uma função relacionada a empresa (Dono, Gerente , Funcionário ou Cliente) e devem agir de acordo com o que acharem apropriados com a sua função.')\n",
        "    print('Término: O jogo termina automaticamente em 10 turnos, porém, caso um jogador declare falência (saldo final <= 0), o jogo termina imediatamente e todos os jogadores perdem.')\n",
        "    print('Objetivo: O jogo é considerado ganho caso chegue aos 10 turnos e todos os jogadores da empresa saiam com um saldo maior que o original e se o cliente não chegar a um saldo negativo.')\n",
        "    print('**O Gerente , Funcionário e Cliente representam um único indivíduo ou diversos indivíduos dependendo da situação.')"
      ],
      "execution_count": null,
      "outputs": []
    },
    {
      "cell_type": "code",
      "metadata": {
        "colab": {
          "base_uri": "https://localhost:8080/"
        },
        "id": "urzvNMQBTyfv",
        "outputId": "273d6cc7-1b8f-4501-f38c-9b3e276cb884"
      },
      "source": [
        "Regras()"
      ],
      "execution_count": null,
      "outputs": [
        {
          "output_type": "stream",
          "name": "stdout",
          "text": [
            "Regras iniciais: A cada turno um evento aleatório acontece. Os jogadores devem fazer escolhas unânimes, a escolha é feita a partir de um debate, no qual cada jogador deve defender seu ponto de vista. O tempo é ilimitado.\n",
            "Função: Os jogadores recebem aleatoriamente uma função relacionada a empresa (Dono, Gerente , Funcionário ou Cliente) e devem agir de acordo com o que acharem apropriados com a sua função.\n",
            "Término: O jogo termina automaticamente em 10 turnos, porém, caso um jogador declare falência (saldo final <= 0), o jogo termina imediatamente e todos os jogadores perdem.\n",
            "Objetivo: O jogo é considerado ganho caso chegue aos 10 turnos e todos os jogadores da empresa saiam com um saldo maior que o original e se o cliente não chegar a um saldo negativo.\n",
            "**O Gerente , Funcionário e Cliente representam um único indivíduo ou diversos indivíduos dependendo da situação.\n"
          ]
        }
      ]
    },
    {
      "cell_type": "code",
      "metadata": {
        "id": "kT3JdrX5xC2R"
      },
      "source": [
        "def K():\n",
        "    global Saldo_D\n",
        "    global Saldo_F\n",
        "    global Saldo_G\n",
        "    global Saldo_C\n",
        "    print('Saldo_D:' , Saldo_D)\n",
        "    print('Saldo_F:' , Saldo_F)\n",
        "    print('Saldo_G:' , Saldo_G)\n",
        "    print('Saldo_C:' , Saldo_C)\n",
        "    raise Exception('Fim de jogo, algum jogador adquiriu um saldo < 0 ')"
      ],
      "execution_count": null,
      "outputs": []
    },
    {
      "cell_type": "markdown",
      "metadata": {
        "id": "xxO1rrufkuNO"
      },
      "source": [
        "#Dificuldade"
      ]
    },
    {
      "cell_type": "code",
      "metadata": {
        "id": "9zmykSdzkzO-"
      },
      "source": [
        "módulo = 1"
      ],
      "execution_count": null,
      "outputs": []
    },
    {
      "cell_type": "code",
      "metadata": {
        "id": "qbr95ogNk1RN"
      },
      "source": [
        "def Dificuldade():\n",
        "    print('F = Fácil ')\n",
        "    print('M = Médio ')\n",
        "    print('D = Difícil ')\n",
        "    dificuldade = str(input('Selecione a dificuldade: ') )\n",
        "    global módulo\n",
        "    if dificuldade == 'F':\n",
        "        módulo = 1\n",
        "    elif dificuldade == 'M':\n",
        "        módulo = 2\n",
        "    elif dificuldade == 'D':\n",
        "        módulo = 3\n",
        "    else:\n",
        "        print('')\n",
        "        print('Dificuldade inválida')\n",
        "        print('-------------------')\n",
        "        Dificuldade()"
      ],
      "execution_count": null,
      "outputs": []
    },
    {
      "cell_type": "markdown",
      "metadata": {
        "id": "dxtHxqAVUrvj"
      },
      "source": [
        "#Saldo"
      ]
    },
    {
      "cell_type": "code",
      "metadata": {
        "id": "EcYgUJWFZ7O-"
      },
      "source": [
        "#Saldo inicial\n",
        "SI_D = 100000\n",
        "SI_F = 20000 * módulo\n",
        "SI_G = 40000\n",
        "SI_C = 50000"
      ],
      "execution_count": null,
      "outputs": []
    },
    {
      "cell_type": "code",
      "metadata": {
        "id": "Ff_yvuLhUn5a"
      },
      "source": [
        "#Saldo para modificações\n",
        "Saldo_D = 100000\n",
        "Saldo_F = 20000 * módulo\n",
        "Saldo_G = 40000\n",
        "Saldo_C = 50000"
      ],
      "execution_count": null,
      "outputs": []
    },
    {
      "cell_type": "markdown",
      "metadata": {
        "id": "GYoDjgBdk7TF"
      },
      "source": [
        "#Eventos"
      ]
    },
    {
      "cell_type": "code",
      "metadata": {
        "id": "ZinvSNWXUt1L"
      },
      "source": [
        "#Eventos:\n",
        "\n",
        "def Evp_1(S):\n",
        "    if S == 0:\n",
        "        print('Um cliente deseja reembolsar um produto que parece estar em boas condições, porém já passou da garantia. Você aceita qual oferta?')\n",
        "        print('S = Eu reembolso por 100% do preço.')\n",
        "        print('N = Eu reembolso por 50% do preço. Já que o produto passou da garantia.')\n",
        "    elif S == 1:\n",
        "        print('S = Eu reembolso por 100% do preço.')\n",
        "        global Saldo_D\n",
        "        global Saldo_C\n",
        "        Saldo_D = Saldo_D - 5000 * módulo\n",
        "        Saldo_C = Saldo_C + 5000 * módulo\n",
        "        if Saldo_C > 0:\n",
        "            print('Saldo_D:' , Saldo_D)\n",
        "            print('Saldo_F:' , Saldo_F)\n",
        "            print('Saldo_G:' , Saldo_G)\n",
        "            print('Saldo_C:' , Saldo_C)\n",
        "        else:\n",
        "            K()\n",
        "    elif S == 2:\n",
        "        print('Eu reembolso por 50% do preço. Já que o produto passou da garantia.')\n",
        "        Saldo_D = Saldo_D - 2500 * módulo\n",
        "        Saldo_C = Saldo_C + 2500 * módulo\n",
        "        if Saldo_C > 0:\n",
        "            print('Saldo_D:' , Saldo_D)\n",
        "            print('Saldo_F:' , Saldo_F)\n",
        "            print('Saldo_G:' , Saldo_G)\n",
        "            print('Saldo_C:' , Saldo_C)\n",
        "        else:\n",
        "            K()\n",
        "\n",
        "\n",
        "def Evp_2(S):\n",
        "    if S == 0:\n",
        "        print('Um cliente parece confuso com o que comprar.')\n",
        "        print('S = Você tenta ajuda-lo a comprar o que deseja?')\n",
        "        print('N = Você procura manipula-lo a investir em algum produto mais caro, ou mais produtos do que ele precisa?')\n",
        "    elif S == 1:\n",
        "        print('S = Você tenta ajuda-lo a comprar o que deseja?')\n",
        "        global Saldo_D\n",
        "        global Saldo_F\n",
        "        global Saldo_G\n",
        "        global Saldo_C\n",
        "        Saldo_D = Saldo_D + 5000 * módulo\n",
        "        Saldo_F = Saldo_F + 2000 * módulo\n",
        "        Saldo_G = Saldo_G + 3000 * módulo\n",
        "        Saldo_C = Saldo_C - 10000 * módulo\n",
        "        if Saldo_F > 0 and Saldo_G > 0 and Saldo_C > 0:\n",
        "            print('Saldo_D:' , Saldo_D)\n",
        "            print('Saldo_F:' , Saldo_F)\n",
        "            print('Saldo_G:' , Saldo_G)\n",
        "            print('Saldo_C:' , Saldo_C)\n",
        "        else:\n",
        "            K()\n",
        "    elif S == 2:\n",
        "        print('N = Você procura manipula-lo a investir em algum produto mais caro, ou mais produtos do que ele precisa?')\n",
        "        Saldo_D = Saldo_D + 6000 * módulo\n",
        "        Saldo_F = Saldo_F + 4000 * módulo\n",
        "        Saldo_G = Saldo_G + 5000 * módulo\n",
        "        Saldo_C = Saldo_C - 15000 * módulo\n",
        "        if Saldo_F > 0 and Saldo_G > 0 and Saldo_C > 0:\n",
        "            print('Saldo_D:' , Saldo_D)\n",
        "            print('Saldo_F:' , Saldo_F)\n",
        "            print('Saldo_G:' , Saldo_G)\n",
        "            print('Saldo_C:' , Saldo_C)\n",
        "        else:\n",
        "            K()\n",
        "\n",
        "def Evp_3(S):\n",
        "    if S == 0:\n",
        "        print('Os funcionarios exigem um aumento salarial e ameaçam entrar em greve caso suas ofertas não sejam aceitas.')\n",
        "        print('S = Sim, aceito a oferta.')\n",
        "        print('N = Não, aceito a oferta.')\n",
        "    elif S == 1:\n",
        "        print('S = Sim, aceito a oferta.')\n",
        "        global Saldo_D\n",
        "        global Saldo_F\n",
        "        global Saldo_G\n",
        "        Saldo_D = Saldo_D - 10000 * módulo\n",
        "        Saldo_F = Saldo_F + 5000 * módulo\n",
        "        Saldo_G = Saldo_G + 5000 * módulo \n",
        "        if Saldo_D > 0 and Saldo_F > 0 and Saldo_G > 0:\n",
        "            print('Saldo_D:' , Saldo_D)\n",
        "            print('Saldo_F:' , Saldo_F)\n",
        "            print('Saldo_G:' , Saldo_G)\n",
        "            print('Saldo_C:' , Saldo_C)\n",
        "        else:\n",
        "            K()\n",
        "    elif S == 2:\n",
        "        if Saldo_D > 0 and Saldo_F > 0 and Saldo_G > 0:\n",
        "            print('N = Não, nego a oferta.')\n",
        "            print('Era um blefe, os funcionarios continuam trabalhando na empresa.')\n",
        "            print('Saldo_D:' , Saldo_D)\n",
        "            print('Saldo_F:' , Saldo_F)\n",
        "            print('Saldo_G:' , Saldo_G)\n",
        "            print('Saldo_C:' , Saldo_C)\n",
        "        else:\n",
        "            K()\n",
        "\n",
        "def Evp_4(S):\n",
        "    if S == 0:\n",
        "        print('Você ofertaria coupons de desconto para clientes que compram acima de R$1000?')\n",
        "        print('S = Sim, aceito a oferta.')\n",
        "        print('N = Não, nego a oferta.')\n",
        "    elif S == 1:\n",
        "        print('S = Sim, aceito a oferta.')\n",
        "        global Saldo_D\n",
        "        global Saldo_C\n",
        "        Saldo_D = Saldo_D + 3000 * módulo\n",
        "        Saldo_C = Saldo_C - 4000 * módulo\n",
        "        if Saldo_D > 0 and Saldo_C > 0:\n",
        "            print('Saldo_D:' , Saldo_D)\n",
        "            print('Saldo_F:' , Saldo_F)\n",
        "            print('Saldo_G:' , Saldo_G)\n",
        "            print('Saldo_C:' , Saldo_C)\n",
        "        else: \n",
        "            K()\n",
        "    elif S == 2:\n",
        "        print('N = Não, nego a oferta.')\n",
        "        Saldo_D = Saldo_D + 1000 * módulo\n",
        "        Saldo_C = Saldo_C - 1000 * módulo\n",
        "        if Saldo_D > 0 and Saldo_C > 0:\n",
        "            print('Saldo_D:' , Saldo_D)\n",
        "            print('Saldo_F:' , Saldo_F)\n",
        "            print('Saldo_G:' , Saldo_G)\n",
        "            print('Saldo_C:' , Saldo_C)\n",
        "        else:\n",
        "            K()\n",
        "    \n",
        "        \n",
        "def Evp_5(S):\n",
        "    if S == 0:\n",
        "        print('Um funcionário da sua empresa pede demissão.')\n",
        "        print('S = Eu contrato um novo funcionário para compensar.')\n",
        "        print('N = Eu exigo mais dos meus funcionários, porém dou um pequeno aumento em seus salários.')\n",
        "    elif S == 1:\n",
        "        print('S = Eu contrato um novo funcionário para compensar.')\n",
        "        global Saldo_D\n",
        "        global Saldo_F\n",
        "        Saldo_D = Saldo_D - 3000 * módulo\n",
        "        Saldo_F = Saldo_F + 3000 * módulo\n",
        "        if Saldo_D > 0 and Saldo_F > 0:\n",
        "            print('Saldo_D:' , Saldo_D)\n",
        "            print('Saldo_F:' , Saldo_F)\n",
        "            print('Saldo_G:' , Saldo_G)\n",
        "            print('Saldo_C:' , Saldo_C)\n",
        "        else:\n",
        "            K()\n",
        "    elif S == 2:\n",
        "        print('N = Eu exigo mais dos meus funcionários, porém dou um pequeno aumento em seus salários.')\n",
        "        Saldo_D = Saldo_D - 2000 * módulo\n",
        "        Saldo_F = Saldo_F + 1000 * módulo\n",
        "        if Saldo_D > 0 and Saldo_F > 0:\n",
        "            print('Saldo_D:' , Saldo_D)\n",
        "            print('Saldo_F:' , Saldo_F)\n",
        "            print('Saldo_G:' , Saldo_G)\n",
        "            print('Saldo_C:' , Saldo_C)\n",
        "        else:\n",
        "            K()\n",
        "\n",
        "        \n",
        "\n",
        "def Evp_6(S):\n",
        "    if S == 0:\n",
        "        print('Você dará bonus de natal se as vendas ultrapassarem a meta.')\n",
        "        print('S = Sim, eu dou o bonus.')\n",
        "        print('N = Não dou o bonus.')\n",
        "    elif S == 1:\n",
        "        print('S = Sim, eu dou o bonus.')\n",
        "        global Saldo_D\n",
        "        global Saldo_F\n",
        "        global Saldo_G\n",
        "        Saldo_D = Saldo_D - 12000 * módulo\n",
        "        Saldo_F = Saldo_F + 4000 * módulo\n",
        "        Saldo_G = Saldo_G + 8000 * módulo\n",
        "        if Saldo_D > 0 and Saldo_F > 0 and Saldo_G > 0:\n",
        "            print('Saldo_D:' , Saldo_D)\n",
        "            print('Saldo_F:' , Saldo_F)\n",
        "            print('Saldo_G:' , Saldo_G)\n",
        "            print('Saldo_C:' , Saldo_C)\n",
        "        else:\n",
        "            K()\n",
        "    elif S == 2:\n",
        "        print('N = Não dou o bonus.')\n",
        "        if Saldo_D > 0 and Saldo_F > 0 and Saldo_G > 0:\n",
        "            print('Saldo_D:' , Saldo_D)\n",
        "            print('Saldo_F:' , Saldo_F)\n",
        "            print('Saldo_G:' , Saldo_G)\n",
        "            print('Saldo_C:' , Saldo_C)\n",
        "        else:\n",
        "            K()\n",
        "\n",
        "\n",
        "def Evp_7(S):\n",
        "    if S == 0:\n",
        "        print('Os negocios não vão bem. É necessário fazer alguns cortes.')\n",
        "        print('S = Demitir 10% dos funcionarios da empresa.')\n",
        "        print('N = Demitir 20% dos fucnionários da empresa.')\n",
        "    elif S == 1:\n",
        "        print('S =  Demitir 10% dos funcionarios da empresa.')\n",
        "        global Saldo_D\n",
        "        global Saldo_F\n",
        "        global Saldo_G\n",
        "        Saldo_D = Saldo_D + 12000 * módulo\n",
        "        Saldo_F = Saldo_F - 7000 * módulo\n",
        "        Saldo_G = Saldo_G - 5000 * módulo\n",
        "        if Saldo_D > 0 and Saldo_F > 0:\n",
        "            print('Saldo_D:' , Saldo_D)\n",
        "            print('Saldo_F:' , Saldo_F)\n",
        "            print('Saldo_G:' , Saldo_G)\n",
        "            print('Saldo_C:' , Saldo_C)\n",
        "        else:\n",
        "            K()\n",
        "    elif S == 2:\n",
        "        print('N = Demitir 20% dos fucnionários da empresa.')\n",
        "        Saldo_D = Saldo_D + 24000 * módulo\n",
        "        Saldo_F = Saldo_F - 14000 * módulo\n",
        "        Saldo_G = Saldo_G - 10000 * módulo\n",
        "        if Saldo_D > 0 and Saldo_F > 0:\n",
        "            print('Saldo_D:' , Saldo_D)\n",
        "            print('Saldo_F:' , Saldo_F)\n",
        "            print('Saldo_G:' , Saldo_G)\n",
        "            print('Saldo_C:' , Saldo_C)\n",
        "        else:\n",
        "            K()\n",
        "            \n",
        "def Evp_8(S):\n",
        "    if S == 0:\n",
        "        print('O gerente deseja ganhar um aumento salarial, pois sente que está trabalhando mais pesado do que antes.')\n",
        "        print('S = Sim, eu dou o aumento.')\n",
        "        print('N = Não dou o aumento.')\n",
        "    elif S == 1:\n",
        "        print('S = Sim, eu dou o aumento.')\n",
        "        global Saldo_D\n",
        "        global Saldo_G\n",
        "        Saldo_D  = Saldo_D - 8000 * módulo\n",
        "        Saldo_G = Saldo_G + 8000 * módulo\n",
        "        if Saldo_D > 0 and Saldo_G > 0:\n",
        "            print('Saldo_D:' , Saldo_D)\n",
        "            print('Saldo_F:' , Saldo_F)\n",
        "            print('Saldo_G:' , Saldo_G)\n",
        "            print('Saldo_C:' , Saldo_C)\n",
        "        else:\n",
        "            K()\n",
        "    elif S == 2:\n",
        "        print('N = Não dou o aumento.')\n",
        "        if Saldo_D > 0 and Saldo_G > 0:\n",
        "            print('Saldo_D:' , Saldo_D)\n",
        "            print('Saldo_F:' , Saldo_F)\n",
        "            print('Saldo_G:' , Saldo_G)\n",
        "            print('Saldo_C:' , Saldo_C)\n",
        "        else:\n",
        "            K()"
      ],
      "execution_count": null,
      "outputs": []
    },
    {
      "cell_type": "code",
      "metadata": {
        "id": "zJtxAiCqudmH"
      },
      "source": [
        "#Eventos Tecnologia\n",
        "def Evp_9(S):\n",
        "    if S == 0:\n",
        "        print('Investir em tecnologia cara?')\n",
        "        print('S = Eu investo.')\n",
        "        print('N = Não investo.')\n",
        "    elif S == 1:\n",
        "        mylist = [1 , 2 , 3]\n",
        "        x = (random.choice(mylist))\n",
        "        if x == 1 or x == 2:\n",
        "            print('A tecnologia ajudou sua empresa, aumentando o numero de vendas.')\n",
        "            global Saldo_D\n",
        "            global Saldo_F\n",
        "            global Saldo_G\n",
        "            Saldo_D = Saldo_D + 6000 * módulo\n",
        "            Saldo_F = Saldo_F + 3000 * módulo\n",
        "            Saldo_G = Saldo_G + 2000 * módulo\n",
        "            if Saldo_D > 0 and Saldo_F and Saldo_G > 0:\n",
        "                print('Saldo_D:' , Saldo_D)\n",
        "                print('Saldo_F:' , Saldo_F)\n",
        "                print('Saldo_G:' , Saldo_G)\n",
        "                print('Saldo_C:' , Saldo_C)\n",
        "            else:\n",
        "                K()\n",
        "        else:\n",
        "            print('A tecnologia não foi eficiente para a empresa, tornando-se apenas em uma despesa.')\n",
        "            Saldo_D = Saldo_D - 4000 * módulo\n",
        "            Saldo_F = Saldo_F - 2000 * módulo\n",
        "            Saldo_G = Saldo_G - 1000 * módulo\n",
        "            if Saldo_D > 0 and Saldo_F and Saldo_G > 0:\n",
        "                print('Saldo_D:' , Saldo_D)\n",
        "                print('Saldo_F:' , Saldo_F)\n",
        "                print('Saldo_G:' , Saldo_G)\n",
        "                print('Saldo_C:' , Saldo_C)\n",
        "            else:\n",
        "                K()\n",
        "             \n",
        "    elif S == 2:\n",
        "        print('N = Não investo.')\n",
        "        if Saldo_D > 0 and Saldo_F and Saldo_G > 0:\n",
        "            print('Saldo_D:' , Saldo_D)\n",
        "            print('Saldo_F:' , Saldo_F)\n",
        "            print('Saldo_G:' , Saldo_G)\n",
        "            print('Saldo_C:' , Saldo_C)\n",
        "        else:\n",
        "            K()\n",
        "\n",
        "def Evp_10(S):\n",
        "    if S == 0:\n",
        "        print('Investir em tecnologia barata?')\n",
        "        print('S = Eu investo.')\n",
        "        print('N = Não investo.')\n",
        "    elif S == 1:\n",
        "        mylist = [1 , 2 ]\n",
        "        x = (random.choice(mylist))\n",
        "        if x == 1:\n",
        "            print('A tecnologia ajudou sua empresa, aumentando o número de vendas.')\n",
        "            global Saldo_D\n",
        "            global Saldo_F\n",
        "            global Saldo_G\n",
        "            Saldo_D = Saldo_D + 5000 * módulo\n",
        "            Saldo_F = Saldo_F + 2000 * módulo\n",
        "            Saldo_G = Saldo_G + 1000 * módulo\n",
        "            if Saldo_D > 0 and Saldo_F and Saldo_G > 0:\n",
        "                print('Saldo_D:' , Saldo_D)\n",
        "                print('Saldo_F:' , Saldo_F)\n",
        "                print('Saldo_G:' , Saldo_G)\n",
        "                print('Saldo_C:' , Saldo_C)\n",
        "            else:\n",
        "                K()\n",
        "        else:\n",
        "            print('A tecnologia não foi eficiente para a empresa, tornando-se apenas em uma despesa.')\n",
        "            Saldo_D = Saldo_D - 4000 * módulo\n",
        "            Saldo_F = Saldo_F - 2500 * módulo \n",
        "            Saldo_G = Saldo_G - 1000 * módulo\n",
        "            if Saldo_D > 0 and Saldo_F and Saldo_G > 0:\n",
        "                print('Saldo_D:' , Saldo_D)\n",
        "                print('Saldo_F:' , Saldo_F)\n",
        "                print('Saldo_G:' , Saldo_G)\n",
        "                print('Saldo_C:' , Saldo_C)\n",
        "            else:\n",
        "                K()\n",
        "             \n",
        "    elif S == 2:\n",
        "        print('N = Não investo.')\n",
        "        if Saldo_D > 0 and Saldo_F and Saldo_G > 0:\n",
        "            print('Saldo_D:' , Saldo_D)\n",
        "            print('Saldo_F:' , Saldo_F)\n",
        "            print('Saldo_G:' , Saldo_G)\n",
        "            print('Saldo_C:' , Saldo_C)\n",
        "        else:\n",
        "            K()"
      ],
      "execution_count": null,
      "outputs": []
    },
    {
      "cell_type": "markdown",
      "metadata": {
        "id": "B1LJdORwUz1z"
      },
      "source": [
        "#Funções"
      ]
    },
    {
      "cell_type": "code",
      "metadata": {
        "id": "OsKlNGKDUv-z"
      },
      "source": [
        "#Dono da empresa: \n",
        "def Dono():\n",
        "    print('Função: Dono')\n",
        "    print('Saldo_D inicial = 100000')\n",
        "\n",
        "#Funcionario:\n",
        "def Funcionario():\n",
        "    print('Função: Funcionário')\n",
        "    print('Saldo_F inicial = 10000')\n",
        "\n",
        "#Gerente: \n",
        "def Gerente():\n",
        "    print('Função: Gerente')\n",
        "    print('Saldo_G inicial = 40000')\n",
        "\n",
        "#Cliente\n",
        "def Cliente():\n",
        "    print('Função: Cliente')\n",
        "    print('Saldo_C inicial = 60000')"
      ],
      "execution_count": null,
      "outputs": []
    },
    {
      "cell_type": "code",
      "metadata": {
        "id": "kFmc45OeU5kj"
      },
      "source": [
        "funcoes_lista = [Dono , Funcionario , Gerente , Cliente]"
      ],
      "execution_count": null,
      "outputs": []
    },
    {
      "cell_type": "code",
      "metadata": {
        "id": "a46YvdagU6rz"
      },
      "source": [
        "A = funcoes_lista.pop(random.randrange(len(funcoes_lista)))\n",
        "B = funcoes_lista.pop(random.randrange(len(funcoes_lista)))\n",
        "C = funcoes_lista.pop(random.randrange(len(funcoes_lista)))\n",
        "D = funcoes_lista.pop(random.randrange(len(funcoes_lista)))"
      ],
      "execution_count": null,
      "outputs": []
    },
    {
      "cell_type": "code",
      "metadata": {
        "id": "hcyPznRMU8cL"
      },
      "source": [
        "def Jogador_1():\n",
        "    input('Nome: ')\n",
        "    return A()"
      ],
      "execution_count": null,
      "outputs": []
    },
    {
      "cell_type": "code",
      "metadata": {
        "id": "fBeDCxA9U927"
      },
      "source": [
        "def Jogador_2():\n",
        "    input('Nome: ')\n",
        "    return B()"
      ],
      "execution_count": null,
      "outputs": []
    },
    {
      "cell_type": "code",
      "metadata": {
        "id": "gwtKch_0U_IL"
      },
      "source": [
        "def Jogador_3():\n",
        "    input('Nome: ')\n",
        "    return C()"
      ],
      "execution_count": null,
      "outputs": []
    },
    {
      "cell_type": "code",
      "metadata": {
        "id": "maHwPvAKVAZL"
      },
      "source": [
        "def Jogador_4():\n",
        "    input('Nome: ')\n",
        "    return D()"
      ],
      "execution_count": null,
      "outputs": []
    },
    {
      "cell_type": "markdown",
      "metadata": {
        "id": "Ew2a8gAe4ANU"
      },
      "source": [
        "#Votação"
      ]
    },
    {
      "cell_type": "code",
      "metadata": {
        "id": "jBbxQcXBVCBj"
      },
      "source": [
        "eventos_lista = [Evp_1 , Evp_2, Evp_3 , Evp_4 , Evp_5 , Evp_6 , Evp_7 , Evp_8 , Evp_9 , Evp_10]"
      ],
      "execution_count": null,
      "outputs": []
    },
    {
      "cell_type": "code",
      "metadata": {
        "id": "3vUOYxpaVDoA"
      },
      "source": [
        "EV1 = eventos_lista.pop(random.randrange(len(eventos_lista)))\n",
        "EV2 = eventos_lista.pop(random.randrange(len(eventos_lista)))\n",
        "EV3 = eventos_lista.pop(random.randrange(len(eventos_lista)))\n",
        "EV4 = eventos_lista.pop(random.randrange(len(eventos_lista)))\n",
        "EV5 = eventos_lista.pop(random.randrange(len(eventos_lista)))\n",
        "EV6 = eventos_lista.pop(random.randrange(len(eventos_lista)))\n",
        "EV7 = eventos_lista.pop(random.randrange(len(eventos_lista)))\n",
        "EV8 = eventos_lista.pop(random.randrange(len(eventos_lista)))\n",
        "EV9 = eventos_lista.pop(random.randrange(len(eventos_lista)))\n",
        "EV10 = eventos_lista.pop(random.randrange(len(eventos_lista)))"
      ],
      "execution_count": null,
      "outputs": []
    },
    {
      "cell_type": "code",
      "metadata": {
        "id": "9izueMwKs6yg"
      },
      "source": [
        "def turno(X):\n",
        "    X(0)\n",
        "    Voto1 = str(input('Jogador_1 Insira seu voto (S ou N) : ') )\n",
        "    Voto2 = str(input('Jogador_2 Insira seu voto (S ou N) : ') )\n",
        "    Voto3 = str(input('Jogador_3 Insira seu voto (S ou N) : ') )\n",
        "    Voto4 = str(input('Jogador_4 Insira seu voto (S ou N) : ') )\n",
        "    if Voto1 == 'S' and Voto1 == Voto2 and Voto2 == Voto3 and Voto3 == Voto4 or Voto1 == 'N' and Voto1 == Voto2 and Voto2 == Voto3 and Voto3 == Voto4:\n",
        "        print('Resultado final:', Voto1)\n",
        "        if Voto1 == 'S':\n",
        "            print('-------------------')\n",
        "            return X(1)\n",
        "        else:\n",
        "            return X(2)\n",
        "    else:\n",
        "        print('-------------------')\n",
        "        print('Inválido, refaça a votação ')\n",
        "        print('-------------------')\n",
        "        turno(X)"
      ],
      "execution_count": null,
      "outputs": []
    },
    {
      "cell_type": "code",
      "metadata": {
        "id": "4J-sVCBpZWol"
      },
      "source": [
        "def resultados():\n",
        "    print('Resultados :')\n",
        "    print('')\n",
        "    print('Saldo final: ')\n",
        "    print('Saldo final Dono = ' , Saldo_D)\n",
        "    print('Saldo final Funcionário = ' , Saldo_F)\n",
        "    print('Saldo final Gerente = ' , Saldo_G)\n",
        "    print('Saldo final Cliente = ' , Saldo_C)\n",
        "    print('-------------------')\n",
        "    print('Lucro total: ')\n",
        "    print('')\n",
        "    A = Saldo_D - SI_D\n",
        "    B = Saldo_F - SI_F\n",
        "    C = Saldo_G - SI_G\n",
        "    D = Saldo_C - SI_C\n",
        "    print('Lucro Dono = ' , A)\n",
        "    print('Lucro Funcionário = ' , B)\n",
        "    print('Lucro Gerente = ' , C)\n",
        "    print('Lucro Cliente = ' , D)\n",
        "    if A > 0 and B > 0 and C > 0 and Saldo_C > 30000:\n",
        "        print('Bom trabalho, todos os jogadores se beneficiaram.')\n",
        "    else:\n",
        "        print('Um ou mais jogadores podiam ter lucrado mais')"
      ],
      "execution_count": null,
      "outputs": []
    },
    {
      "cell_type": "code",
      "metadata": {
        "id": "iAprTRVwVHwk"
      },
      "source": [
        "def Comece():\n",
        "    print('-------------------')\n",
        "    print('*Jogador Número 1:')\n",
        "    print('')\n",
        "    \n",
        "    Jogador_1() \n",
        "    print('-------------------')\n",
        "    print('*Jogador Número 2:')\n",
        "    print('')\n",
        "    \n",
        "    Jogador_2() \n",
        "    print('-------------------')\n",
        "    print('*Jogador Número 3:')\n",
        "    print('')\n",
        "    \n",
        "    Jogador_3() \n",
        "    print('-------------------')\n",
        "    print('*Jogador Número 4:')\n",
        "    print('')\n",
        "\n",
        "    Jogador_4()\n",
        "    print('-------------------')\n",
        "\n",
        "    print('Primeiro evento: ')\n",
        "    turno(EV1)\n",
        "    print('-------------------')\n",
        "\n",
        "    print('Segundo evento: ')\n",
        "    turno(EV2)\n",
        "    print('-------------------')\n",
        "\n",
        "    print('Terceiro evento: ')\n",
        "    turno(EV3)\n",
        "    print('-------------------')\n",
        "\n",
        "    print('Quarto evento: ')\n",
        "    turno(EV4)\n",
        "    print('-------------------')\n",
        "\n",
        "    print('Quinto evento: ')\n",
        "    turno(EV5)\n",
        "    print('-------------------')\n",
        "\n",
        "    print('Sexto evento: ')\n",
        "    turno(EV6)\n",
        "    print('-------------------')\n",
        "\n",
        "    print('Sétimo evento: ')\n",
        "    turno(EV7)\n",
        "    print('-------------------')\n",
        "\n",
        "    print('Oitavo evento: ')\n",
        "    turno(EV8)\n",
        "    print('-------------------')\n",
        "\n",
        "    print('Nono evento: ')\n",
        "    turno(EV9)\n",
        "    print('-------------------')\n",
        "\n",
        "    print('Décimo evento: ')\n",
        "    turno(EV10)\n",
        "    print('-------------------')\n",
        "    print('Jogo finalizado')\n",
        "    print('-------------------')\n",
        "    resultados()"
      ],
      "execution_count": null,
      "outputs": []
    },
    {
      "cell_type": "markdown",
      "metadata": {
        "id": "hBOx8FK2VND0"
      },
      "source": [
        "#Use:\n",
        "\n",
        "Regras() para ver as regras \n",
        "\n",
        "Função escolhida() , para ver seu saldo inicial ,  exemplo Dono()\n",
        "\n",
        "Selecione a dificuldade com Dificuldade() , o Comece so funciona caso a dificuldade esteja selecionada\n",
        "\n",
        "Comece o jogo com Comece()"
      ]
    },
    {
      "cell_type": "code",
      "metadata": {
        "colab": {
          "base_uri": "https://localhost:8080/"
        },
        "id": "vE6G-_uE2XLT",
        "outputId": "35d57568-4926-4a32-dfcf-f964b6580c40"
      },
      "source": [
        "Regras()"
      ],
      "execution_count": null,
      "outputs": [
        {
          "output_type": "stream",
          "name": "stdout",
          "text": [
            "Regras iniciais: A cada turno um evento aleatório acontece. Os jogadores devem fazer escolhas unânimes, a escolha é feita a partir de um debate, no qual cada jogador deve defender seu ponto de vista. O tempo é ilimitado.\n",
            "Função: Os jogadores recebem aleatoriamente uma função relacionada a empresa (Dono, Gerente , Funcionário ou Cliente) e devem agir de acordo com o que acharem apropriados com a sua função.\n",
            "Término: O jogo termina automaticamente em 10 turnos, porém, caso um jogador declare falência (saldo final <= 0), o jogo termina imediatamente e todos os jogadores perdem.\n",
            "Objetivo: O jogo é considerado ganho caso chegue aos 10 turnos e todos os jogadores da empresa saiam com um saldo maior que o original e se o cliente não chegar a um saldo negativo.\n",
            "**O Gerente , Funcionário e Cliente representam um único indivíduo ou diversos indivíduos dependendo da situação.\n"
          ]
        }
      ]
    },
    {
      "cell_type": "code",
      "metadata": {
        "colab": {
          "base_uri": "https://localhost:8080/"
        },
        "id": "GRvikJu7lYvP",
        "outputId": "00dc4755-d1a8-4855-afc6-d51fdaf28fbf"
      },
      "source": [
        "Dificuldade()"
      ],
      "execution_count": null,
      "outputs": [
        {
          "name": "stdout",
          "output_type": "stream",
          "text": [
            "F = Fácil \n",
            "M = Médio \n",
            "D = Difícil \n",
            "Selecione a dificuldade: D\n"
          ]
        }
      ]
    },
    {
      "cell_type": "code",
      "metadata": {
        "colab": {
          "base_uri": "https://localhost:8080/"
        },
        "id": "kReZsTPuVMdU",
        "outputId": "f479282f-3a4a-4e3a-b616-56f40cd03a45"
      },
      "source": [
        "2Comece()"
      ],
      "execution_count": null,
      "outputs": [
        {
          "output_type": "stream",
          "name": "stdout",
          "text": [
            "-------------------\n",
            "*Jogador Número 1:\n",
            "\n",
            "Nome: 1\n",
            "Função: Dono\n",
            "Saldo_D inicial = 100000\n",
            "-------------------\n",
            "*Jogador Número 2:\n",
            "\n",
            "Nome: \n",
            "Função: Gerente\n",
            "Saldo_G inicial = 40000\n",
            "-------------------\n",
            "*Jogador Número 3:\n",
            "\n",
            "Nome: 3\n",
            "Função: Cliente\n",
            "Saldo_C inicial = 60000\n",
            "-------------------\n",
            "*Jogador Número 4:\n",
            "\n",
            "Nome: 4\n",
            "Função: Funcionário\n",
            "Saldo_F inicial = 10000\n",
            "-------------------\n",
            "Primeiro evento: \n",
            "Um cliente deseja reembolsar um produto que parece estar em boas condições, porém já passou da garantia. Você aceita qual oferta?\n",
            "S = Eu reembolso por 100% do preço.\n",
            "N = Eu reembolso por 50% do preço. Já que o produto passou da garantia.\n",
            "Jogador_1 Insira seu voto (S ou N) : S\n",
            "Jogador_2 Insira seu voto (S ou N) : S\n",
            "Jogador_3 Insira seu voto (S ou N) : S\n",
            "Jogador_4 Insira seu voto (S ou N) : S\n",
            "Resultado final: S\n",
            "-------------------\n",
            "S = Eu reembolso por 100% do preço.\n",
            "Saldo_D: 62000\n",
            "Saldo_F: 18000\n",
            "Saldo_G: 50000\n",
            "Saldo_C: 40000\n",
            "-------------------\n",
            "Segundo evento: \n",
            "Um cliente parece confuso com o que comprar.\n",
            "S = Você tenta ajuda-lo a comprar o que deseja?\n",
            "N = Você procura manipula-lo a investir em algum produto mais caro, ou mais produtos do que ele precisa?\n",
            "Jogador_1 Insira seu voto (S ou N) : S\n",
            "Jogador_2 Insira seu voto (S ou N) : S\n",
            "Jogador_3 Insira seu voto (S ou N) : S\n",
            "Jogador_4 Insira seu voto (S ou N) : S\n",
            "Resultado final: S\n",
            "-------------------\n",
            "S = Você tenta ajuda-lo a comprar o que deseja?\n",
            "Saldo_D: 72000\n",
            "Saldo_F: 22000\n",
            "Saldo_G: 56000\n",
            "Saldo_C: 20000\n",
            "-------------------\n",
            "Terceiro evento: \n",
            "Você ofertaria coupons de desconto para clientes que compram acima de R$1000?\n",
            "S = Sim, aceito a oferta.\n",
            "N = Não, nego a oferta.\n",
            "Jogador_1 Insira seu voto (S ou N) : N\n",
            "Jogador_2 Insira seu voto (S ou N) : N\n",
            "Jogador_3 Insira seu voto (S ou N) : N\n",
            "Jogador_4 Insira seu voto (S ou N) : N\n",
            "Resultado final: N\n",
            "N = Não, nego a oferta.\n",
            "Saldo_D: 74000\n",
            "Saldo_F: 22000\n",
            "Saldo_G: 56000\n",
            "Saldo_C: 18000\n",
            "-------------------\n",
            "Quarto evento: \n",
            "O gerente deseja ganhar um aumento salarial, pois sente que está trabalhando mais pesado do que antes.\n",
            "S = Sim, eu dou o aumento.\n",
            "N = Não dou o aumento.\n",
            "Jogador_1 Insira seu voto (S ou N) : S\n",
            "Jogador_2 Insira seu voto (S ou N) : S\n",
            "Jogador_3 Insira seu voto (S ou N) : S\n",
            "Jogador_4 Insira seu voto (S ou N) : S\n",
            "Resultado final: S\n",
            "-------------------\n",
            "S = Sim, eu dou o aumento.\n",
            "Saldo_D: 58000\n",
            "Saldo_F: 22000\n",
            "Saldo_G: 72000\n",
            "Saldo_C: 18000\n",
            "-------------------\n",
            "Quinto evento: \n",
            "Um funcionário da sua empresa pede demissão.\n",
            "S = Eu contrato um novo funcionário para compensar.\n",
            "N = Eu exigo mais dos meus funcionários, porém dou um pequeno aumento em seus salários.\n",
            "Jogador_1 Insira seu voto (S ou N) : N\n",
            "Jogador_2 Insira seu voto (S ou N) : N\n",
            "Jogador_3 Insira seu voto (S ou N) : N\n",
            "Jogador_4 Insira seu voto (S ou N) : N\n",
            "Resultado final: N\n",
            "N = Eu exigo mais dos meus funcionários, porém dou um pequeno aumento em seus salários.\n",
            "Saldo_D: 54000\n",
            "Saldo_F: 24000\n",
            "Saldo_G: 72000\n",
            "Saldo_C: 18000\n",
            "-------------------\n",
            "Sexto evento: \n",
            "Os negocios não vão bem. É necessário fazer alguns cortes.\n",
            "S = Demitir 10% dos funcionarios da empresa.\n",
            "N = Demitir 20% dos fucnionários da empresa.\n",
            "Jogador_1 Insira seu voto (S ou N) : S\n",
            "Jogador_2 Insira seu voto (S ou N) : S\n",
            "Jogador_3 Insira seu voto (S ou N) : S\n",
            "Jogador_4 Insira seu voto (S ou N) : S\n",
            "Resultado final: S\n",
            "-------------------\n",
            "S =  Demitir 10% dos funcionarios da empresa.\n",
            "Saldo_D: 78000\n",
            "Saldo_F: 10000\n",
            "Saldo_G: 62000\n",
            "Saldo_C: 18000\n",
            "-------------------\n",
            "Sétimo evento: \n",
            "Investir em tecnologia barata?\n",
            "S = Eu investo.\n",
            "N = Não investo.\n",
            "Jogador_1 Insira seu voto (S ou N) : N\n",
            "Jogador_2 Insira seu voto (S ou N) : N\n",
            "Jogador_3 Insira seu voto (S ou N) : N\n",
            "Jogador_4 Insira seu voto (S ou N) : N\n",
            "Resultado final: N\n",
            "N = Não investo.\n",
            "Saldo_D: 78000\n",
            "Saldo_F: 10000\n",
            "Saldo_G: 62000\n",
            "Saldo_C: 18000\n",
            "-------------------\n",
            "Oitavo evento: \n",
            "Você dará bonus de natal se as vendas ultrapassarem a meta.\n",
            "S = Sim, eu dou o bonus.\n",
            "N = Não dou o bonus.\n",
            "Jogador_1 Insira seu voto (S ou N) : N\n",
            "Jogador_2 Insira seu voto (S ou N) : N\n",
            "Jogador_3 Insira seu voto (S ou N) : N\n",
            "Jogador_4 Insira seu voto (S ou N) : N\n",
            "Resultado final: N\n",
            "N = Não dou o bonus.\n",
            "Saldo_D: 78000\n",
            "Saldo_F: 10000\n",
            "Saldo_G: 62000\n",
            "Saldo_C: 18000\n",
            "-------------------\n",
            "Nono evento: \n",
            "Os funcionarios exigem um aumento salarial e ameaçam entrar em greve caso suas ofertas não sejam aceitas.\n",
            "S = Sim, aceito a oferta.\n",
            "N = Não, aceito a oferta.\n",
            "Jogador_1 Insira seu voto (S ou N) : S\n",
            "Jogador_2 Insira seu voto (S ou N) : S\n",
            "Jogador_3 Insira seu voto (S ou N) : S\n",
            "Jogador_4 Insira seu voto (S ou N) : S\n",
            "Resultado final: S\n",
            "-------------------\n",
            "S = Sim, aceito a oferta.\n",
            "Saldo_D: 58000\n",
            "Saldo_F: 20000\n",
            "Saldo_G: 72000\n",
            "Saldo_C: 18000\n",
            "-------------------\n",
            "Décimo evento: \n",
            "Investir em tecnologia cara?\n",
            "S = Eu investo.\n",
            "N = Não investo.\n",
            "Jogador_1 Insira seu voto (S ou N) : S\n",
            "Jogador_2 Insira seu voto (S ou N) : S\n",
            "Jogador_3 Insira seu voto (S ou N) : S\n",
            "Jogador_4 Insira seu voto (S ou N) : S\n",
            "Resultado final: S\n",
            "-------------------\n",
            "A tecnologia ajudou sua empresa, aumentando o numero de vendas.\n",
            "Saldo_D: 70000\n",
            "Saldo_F: 26000\n",
            "Saldo_G: 76000\n",
            "Saldo_C: 18000\n",
            "-------------------\n",
            "Jogo finalizado\n",
            "-------------------\n",
            "Resultados :\n",
            "\n",
            "Saldo final: \n",
            "Saldo final Dono =  70000\n",
            "Saldo final Funcionário =  26000\n",
            "Saldo final Gerente =  76000\n",
            "Saldo final Cliente =  18000\n",
            "-------------------\n",
            "Lucro total: \n",
            "\n",
            "Lucro Dono =  0\n",
            "Lucro Funcionário =  16000\n",
            "Lucro Gerente =  36000\n",
            "Lucro Cliente =  -32000\n",
            "Um ou mais jogadores podiam ter lucrado mais\n"
          ]
        }
      ]
    },
    {
      "cell_type": "code",
      "metadata": {
        "id": "GmuqcB3VvPcX"
      },
      "source": [
        ""
      ],
      "execution_count": null,
      "outputs": []
    }
  ]
}